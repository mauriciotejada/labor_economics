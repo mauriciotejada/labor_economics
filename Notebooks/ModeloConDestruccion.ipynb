{
 "cells": [
  {
   "cell_type": "markdown",
   "metadata": {},
   "source": [
    "# Búsqueda de Trabajo Secuencial Óptima\n",
    "\n",
    "Mauricio M. Tejada\n",
    "\n",
    "ILADES - Universidad Alberto Hurtado\n",
    "\n",
    "Septiembre, 2017\n",
    "\n",
    "---"
   ]
  },
  {
   "cell_type": "markdown",
   "metadata": {},
   "source": [
    "## Modelo con Destrucción Exógena de Empleos \n",
    "\n",
    "Buscamos resolver la siguiente ecuación de Bellman:\n",
    "$$\n",
    "R=b+\\frac{\\alpha }{r+\\lambda}\\int_{R}^{\\overline{w}}(1-F(w))dw\n",
    "$$\n",
    "Suponemos que $\\log w \\sim N(\\mu,\\sigma)$ y que $\\overline{w}=\\infty$"
   ]
  },
  {
   "cell_type": "code",
   "execution_count": 1,
   "metadata": {
    "collapsed": true
   },
   "outputs": [],
   "source": [
    "# Cargamos modulos necesarios\n",
    "%matplotlib inline\n",
    "import scipy.stats as stats\n",
    "import numpy as np\n",
    "from scipy import integrate\n",
    "import matplotlib.pyplot as plt  "
   ]
  },
  {
   "cell_type": "code",
   "execution_count": 2,
   "metadata": {
    "collapsed": true
   },
   "outputs": [],
   "source": [
    "# Definición de Parámetros\n",
    "b = 1\n",
    "α = 0.30\n",
    "r = 0.1\n",
    "λ = 0.01\n",
    "μ = 0.8\n",
    "σ = 0.5\n",
    "F = stats.lognorm(s = σ, loc = 0, scale = np.exp(μ))"
   ]
  },
  {
   "cell_type": "code",
   "execution_count": 3,
   "metadata": {
    "collapsed": true
   },
   "outputs": [],
   "source": [
    "# Función a integrar\n",
    "integrando = lambda x: 1 - F.cdf(x)"
   ]
  },
  {
   "cell_type": "code",
   "execution_count": 4,
   "metadata": {},
   "outputs": [
    {
     "name": "stdout",
     "output_type": "stream",
     "text": [
      "El salario de reserva es:  2.4447233557053774\n"
     ]
    }
   ],
   "source": [
    "# Iterarmos para encontrar el punto fijo\n",
    "R0 = 1\n",
    "\n",
    "diff = 10\n",
    "tol  = 0.00001\n",
    "step = 0.5\n",
    "\n",
    "while diff > tol:\n",
    "    R1   = b + (α/(r+λ))*integrate.quad(integrando, R0, np.inf)[0]\n",
    "    diff = np.abs(R1-R0)\n",
    "    R0   = R0 + step*(R1-R0)\n",
    "\n",
    "print(\"El salario de reserva es: \", R1)    "
   ]
  },
  {
   "cell_type": "markdown",
   "metadata": {},
   "source": [
    "Sabemos que $N(w) = \\frac{w + \\lambda U}{r+\\lambda}$ y que $U = R/r$. Usando estas funciones podemos repree gráficamente el equilibrio: "
   ]
  },
  {
   "cell_type": "code",
   "execution_count": 5,
   "metadata": {},
   "outputs": [
    {
     "data": {
      "image/png": "[encoded data removed]",
      "text/plain": [
       "<matplotlib.figure.Figure at 0x115ff3278>"
      ]
     },
     "metadata": {},
     "output_type": "display_data"
    }
   ],
   "source": [
    "w  = np.linspace(0,5,10)\n",
    "U  = (R1/r) * np.ones(len(w))\n",
    "Nw = (w + λ*U)/(r+λ)\n",
    "\n",
    "plt.plot(w, U, 'r-', linewidth=2)\n",
    "plt.plot(w, Nw, 'b-', linewidth=2)\n",
    "plt.xlabel(r'$w$')\n",
    "plt.ylabel(r'$U,N(w)$')\n",
    "plt.title('Salario de Reserva de Equilibrio')\n",
    "plt.grid(True)\n",
    "plt.show()"
   ]
  },
  {
   "cell_type": "markdown",
   "metadata": {},
   "source": [
    "El código anterior funciona bien, pero si queremos probar diferentes valores de los parámetros es mejor usar una functión que al proveer los parámetros como insumo nos de como resultado el salario de reserva. Definimos dicha función a continuación:"
   ]
  },
  {
   "cell_type": "code",
   "execution_count": 6,
   "metadata": {
    "collapsed": true
   },
   "outputs": [],
   "source": [
    "def SolveModel(parametrization, R0=1, tol=0.00001, step=0.5):\n",
    "    b, α, r, λ, F = parametrization\n",
    "    diff = 10\n",
    "    \n",
    "    integrando = lambda x: 1 - F.cdf(x)\n",
    "    \n",
    "    while diff > tol:\n",
    "        R1   = b + (α/(r+λ))*integrate.quad(integrando, R0, np.inf)[0]\n",
    "        diff = np.abs(R1-R0)\n",
    "        R0   = R0 + step*(R1-R0)\n",
    "        \n",
    "    hu = α*(1-F.cdf(R1))\n",
    "    he = λ \n",
    "    u = λ/(λ + hu)\n",
    "    e = hu/(λ + hu)\n",
    "    \n",
    "    return R1, hu, he, u, e"
   ]
  },
  {
   "cell_type": "markdown",
   "metadata": {},
   "source": [
    "Probemos ahora la función con la parametrización inicial:"
   ]
  },
  {
   "cell_type": "code",
   "execution_count": 7,
   "metadata": {},
   "outputs": [
    {
     "name": "stdout",
     "output_type": "stream",
     "text": [
      "El salario de reserva es:  2.4447233557053774\n",
      "La duración promedio del desempleo es:  7.83407450478\n",
      "La duración promedio del empleo es:  100.0\n",
      "La tasa de desempleo es:  0.0726493415069\n",
      "La tasa de empleo es:  0.927350658493\n"
     ]
    }
   ],
   "source": [
    "parm = [b, α, r, λ, F]    # Lista con la parametrización inicial\n",
    "\n",
    "Req, hueq, heeq, ueq, eeq = SolveModel(parm)\n",
    "print(\"El salario de reserva es: \", Req)  \n",
    "print(\"La duración promedio del desempleo es: \", 1/hueq) \n",
    "print(\"La duración promedio del empleo es: \", 1/heeq) \n",
    "print(\"La tasa de desempleo es: \", ueq)\n",
    "print(\"La tasa de empleo es: \", eeq) "
   ]
  },
  {
   "cell_type": "markdown",
   "metadata": {},
   "source": [
    "#### Efecto de un cambio de ingresos (desutilidad) de los desempleados\n",
    "\n",
    "Ahora resolvamos el modelo para $b \\in [0,2]$:"
   ]
  },
  {
   "cell_type": "code",
   "execution_count": 8,
   "metadata": {
    "collapsed": true
   },
   "outputs": [],
   "source": [
    "b_values  = np.linspace(0,2,10)\n",
    "R_values_b = np.zeros(len(b_values))\n",
    "h_values_b = np.zeros(len(b_values))\n",
    "\n",
    "for i in range(len(b_values)):\n",
    "    parmi = [b_values[i], α, r, λ, F]\n",
    "    R_values_b[i], h_values_b[i] = SolveModel(parmi)[0:2]"
   ]
  },
  {
   "cell_type": "markdown",
   "metadata": {},
   "source": [
    "Graficamos el efecto sobre el salarios de reserva:"
   ]
  },
  {
   "cell_type": "code",
   "execution_count": 9,
   "metadata": {},
   "outputs": [
    {
     "data": {
      "image/png": "[encoded data removed]",
      "text/plain": [
       "<matplotlib.figure.Figure at 0x1185bdf98>"
      ]
     },
     "metadata": {},
     "output_type": "display_data"
    }
   ],
   "source": [
    "plt.plot(b_values, R_values_b, 'r-', linewidth=2)\n",
    "plt.xlabel(r'$b$')\n",
    "plt.ylabel(r'$R$')\n",
    "plt.title('Efecto de '+r'$b$'+' sobre el Salario de Reserva')\n",
    "plt.grid(True)\n",
    "plt.show()"
   ]
  },
  {
   "cell_type": "markdown",
   "metadata": {},
   "source": [
    "Graficamos el efecto sobre la probabilidad de salir del desempleo:"
   ]
  },
  {
   "cell_type": "code",
   "execution_count": 10,
   "metadata": {},
   "outputs": [
    {
     "data": {
      "image/png": "[encoded data removed]",
      "text/plain": [
       "<matplotlib.figure.Figure at 0x118b17320>"
      ]
     },
     "metadata": {},
     "output_type": "display_data"
    }
   ],
   "source": [
    "plt.plot(b_values, h_values_b, 'r-', linewidth=2)\n",
    "plt.xlabel(r'$b$')\n",
    "plt.ylabel(r'$h$')\n",
    "plt.title('Efecto de '+r'$b$'+' sobre la Probabilidad de salir del Desempleo')\n",
    "plt.grid(True)\n",
    "plt.show()"
   ]
  },
  {
   "cell_type": "markdown",
   "metadata": {},
   "source": [
    "#### Efecto de un cambio de la tasa a la cuál llegan las ofertas laborales\n",
    "\n",
    "Ahora resolvamos el modelo para $\\alpha \\in [0,1]$:"
   ]
  },
  {
   "cell_type": "code",
   "execution_count": 11,
   "metadata": {
    "collapsed": true
   },
   "outputs": [],
   "source": [
    "α_values  = np.linspace(0,1,20)\n",
    "R_values_α  = np.zeros(len(α_values))\n",
    "h_values_α  = np.zeros(len(α_values))\n",
    "\n",
    "for i in range(len(α_values)):\n",
    "    parmi = [b, α_values[i], r, λ, F]\n",
    "    R_values_α[i], h_values_α[i] = SolveModel(parmi)[0:2]"
   ]
  },
  {
   "cell_type": "markdown",
   "metadata": {},
   "source": [
    "Graficamos el efecto sobre el salarios de reserva:"
   ]
  },
  {
   "cell_type": "code",
   "execution_count": 12,
   "metadata": {},
   "outputs": [
    {
     "data": {
      "image/png": "[encoded data removed]",
      "text/plain": [
       "<matplotlib.figure.Figure at 0x118585630>"
      ]
     },
     "metadata": {},
     "output_type": "display_data"
    }
   ],
   "source": [
    "plt.plot(α_values, R_values_α, 'r-', linewidth=2)\n",
    "plt.xlabel(r'$\\alpha$')\n",
    "plt.ylabel(r'$R$')\n",
    "plt.title('Efecto de '+r'$\\alpha$'+' sobre el Salario de Reserva')\n",
    "plt.grid(True)\n",
    "plt.show()"
   ]
  },
  {
   "cell_type": "markdown",
   "metadata": {},
   "source": [
    "Graficamos el efecto sobre la probabilidad de salir del desempleo:"
   ]
  },
  {
   "cell_type": "code",
   "execution_count": 13,
   "metadata": {},
   "outputs": [
    {
     "data": {
      "image/png": "[encoded data removed]",
      "text/plain": [
       "<matplotlib.figure.Figure at 0x119057400>"
      ]
     },
     "metadata": {},
     "output_type": "display_data"
    }
   ],
   "source": [
    "plt.plot(α_values, h_values_α, 'r-', linewidth=2)\n",
    "plt.xlabel(r'$\\alpha$')\n",
    "plt.ylabel(r'$h$')\n",
    "plt.title('Efecto de '+r'$\\alpha$'+' sobre la Probabilidad de salir del Desempleo')\n",
    "plt.grid(True)\n",
    "plt.show()"
   ]
  },
  {
   "cell_type": "markdown",
   "metadata": {},
   "source": [
    "#### Distribución de Salarios Aceptados\n",
    "\n",
    "La distribución de salarios aceptados se deriva de la distribución de salarios $F(w)$. En particular, dicha distribución es $F(w)$ truncada a la izquierda al salario de reserva $R$.   La función de densidad es:\n",
    "$$f_{A}(w) = f(w|w \\geq R )= \\frac{f(w)}{1-F(R)}$$\n",
    "La función acumulada en tanto es:\n",
    "$$F_{A}(w) = \\int^{w}_{R} f(w|w \\geq R ) = \\frac{F(w)-F(R)}{1-F(R)}$$"
   ]
  },
  {
   "cell_type": "code",
   "execution_count": 14,
   "metadata": {
    "collapsed": true
   },
   "outputs": [],
   "source": [
    "# Función para obtener números aleatorios de una distribución truncada a la izquierda\n",
    "\n",
    "def randTruncDist(Distribution, TruncPoint, Ndraws):\n",
    "    \"\"\" Random numbers from a truncated distribuion\n",
    "    \n",
    "    Distribution: Distribution Object (stats.scipy)\n",
    "    TruncPoint: Truncation point (left truncation)\n",
    "    Ndraws: Number of draws\n",
    "    \n",
    "    \"\"\"\n",
    "    cdfTruncPoint = Distribution.cdf(TruncPoint)\n",
    "    drawsU = cdfTruncPoint  + (1 - cdfTruncPoint)*np.random.rand(Ndraws)\n",
    "    return Distribution.ppf(drawsU)"
   ]
  },
  {
   "cell_type": "markdown",
   "metadata": {},
   "source": [
    "Comparemos ahora las distribuciones de salarios aceptados y ofrecidos generando 10000 números aleatorios de ambas distribuciones."
   ]
  },
  {
   "cell_type": "code",
   "execution_count": 15,
   "metadata": {},
   "outputs": [
    {
     "data": {
      "image/png": "[encoded data removed]",
      "text/plain": [
       "<matplotlib.figure.Figure at 0x115feeda0>"
      ]
     },
     "metadata": {},
     "output_type": "display_data"
    }
   ],
   "source": [
    "Ndraws = 10000\n",
    "obswages = randTruncDist(F,R1,Ndraws)\n",
    "wages    = F.rvs(Ndraws)\n",
    "\n",
    "# Histograma\n",
    "plt.hist(obswages, bins=100, label='Salarios Aceptados')\n",
    "plt.hist(wages, bins=100, label='Salarios Ofrecidos')\n",
    "plt.title('Histograma: Salarios Aceptados vs. Salarios Ofrecidos')\n",
    "plt.legend()\n",
    "plt.show()"
   ]
  }
 ],
 "metadata": {
  "kernelspec": {
   "display_name": "Python 3",
   "language": "python",
   "name": "python3"
  },
  "language_info": {
   "codemirror_mode": {
    "name": "ipython",
    "version": 3
   },
   "file_extension": ".py",
   "mimetype": "text/x-python",
   "name": "python",
   "nbconvert_exporter": "python",
   "pygments_lexer": "ipython3",
   "version": "3.5.3"
  }
 },
 "nbformat": 4,
 "nbformat_minor": 2
}
